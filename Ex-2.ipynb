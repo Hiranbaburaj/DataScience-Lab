{
 "cells": [
  {
   "cell_type": "code",
   "execution_count": 1,
   "id": "994cee8d",
   "metadata": {},
   "outputs": [],
   "source": [
    "#Exercise 2\n",
    "#numpy matrix operations\n",
    "import numpy as np"
   ]
  },
  {
   "cell_type": "code",
   "execution_count": 92,
   "id": "0a470e14",
   "metadata": {},
   "outputs": [
    {
     "name": "stdout",
     "output_type": "stream",
     "text": [
      "Enter no. of rows2\n",
      "Enter the values for matrix 1\n",
      "\n",
      "Enter the numbers1 2\n",
      "Enter the numbers2 4\n",
      "\n",
      " Enter the values for matrix 2\n",
      "\n",
      "Enter the numbers5 6\n",
      "Enter the numbers8 9\n",
      "\n",
      " Matrix 1: \n",
      " [[1 2]\n",
      " [2 4]]\n",
      "\n",
      " Matrix 2: \n",
      " [[5 6]\n",
      " [8 9]]\n"
     ]
    }
   ],
   "source": [
    "#create 2 Matrices (read values from user)\n",
    "\n",
    "r = int(input(\"Enter no. of rows\"))\n",
    "l1 = []\n",
    "l2 = []\n",
    "print(\"Enter the values for matrix 1\\n\")\n",
    "for i in range(r):\n",
    "    a = np.array(list(map(int, input(\"Enter the numbers: \").split())))\n",
    "    l1.append(a)\n",
    "print(\"\\n Enter the values for matrix 2\\n\")\n",
    "for i in range(r):\n",
    "    b = np.array(list(map(int, input(\"Enter the numbers: \").split())))\n",
    "    l2.append(b)\n",
    "m1=np.matrix(l1)\n",
    "m2=np.matrix(l2)\n",
    "print(\"\\n Matrix 1: \\n\",m1)\n",
    "print(\"\\n Matrix 2: \\n\",m2)"
   ]
  },
  {
   "cell_type": "code",
   "execution_count": 49,
   "id": "933849b4",
   "metadata": {},
   "outputs": [
    {
     "name": "stdout",
     "output_type": "stream",
     "text": [
      "Dot Product: \n"
     ]
    },
    {
     "data": {
      "text/plain": [
       "matrix([[2178, 2057],\n",
       "        [4840, 4719]])"
      ]
     },
     "execution_count": 49,
     "metadata": {},
     "output_type": "execute_result"
    }
   ],
   "source": [
    "# 1. Dot Product\n",
    "\n",
    "print(\"Dot Product: \")\n",
    "np.dot(m1,m2)"
   ]
  },
  {
   "cell_type": "code",
   "execution_count": 103,
   "id": "404c9966",
   "metadata": {},
   "outputs": [
    {
     "name": "stdout",
     "output_type": "stream",
     "text": [
      "Transpose of matrix 1 \n",
      " [[1 2]\n",
      " [2 4]] \n",
      "\n",
      "Transpose of matrix 2\n",
      " [[5 8]\n",
      " [6 9]]\n"
     ]
    }
   ],
   "source": [
    "# 2. Transpose\n",
    "\n",
    "print(\"Transpose of matrix 1 \\n\",np.transpose(m1),\"\\n\\nTranspose of matrix 2\\n\",np.transpose(m2))"
   ]
  },
  {
   "cell_type": "code",
   "execution_count": 66,
   "id": "ec62a5d1",
   "metadata": {},
   "outputs": [
    {
     "name": "stdout",
     "output_type": "stream",
     "text": [
      "Trace of matrix 1\n",
      " 44 \n",
      "\n",
      "Trace of matrix 2\n",
      " 121\n"
     ]
    }
   ],
   "source": [
    "# 3. Trace\n",
    "# Return the sum along diagonals of the array.\n",
    "\n",
    "print(\"Trace of matrix 1\\n\",np.trace(m1),\"\\n\\nTrace of matrix 2\\n\",np.trace(m2))"
   ]
  },
  {
   "cell_type": "code",
   "execution_count": 100,
   "id": "a773df8a",
   "metadata": {},
   "outputs": [
    {
     "name": "stdout",
     "output_type": "stream",
     "text": [
      "Rank of matrix 1\n",
      " 1 \n",
      "\n",
      "Rank of matrix 2\n",
      " 2\n"
     ]
    }
   ],
   "source": [
    "# 4. rank\n",
    "\n",
    "print(\"Rank of matrix 1\\n\",np.linalg.matrix_rank(m1),\"\\n\\nRank of matrix 2\\n\",np.linalg.matrix_rank(m2))"
   ]
  },
  {
   "cell_type": "code",
   "execution_count": 96,
   "id": "1cbdab1c",
   "metadata": {},
   "outputs": [
    {
     "name": "stdout",
     "output_type": "stream",
     "text": [
      "Determinant of matrix 1\n",
      " 0.0 \n",
      "\n",
      "Determinant of matrix 2\n",
      " -2.9999999999999996\n"
     ]
    }
   ],
   "source": [
    "# 5. Determinant\n",
    "\n",
    "print(\"Determinant of matrix 1\\n\",np.linalg.det(m1),\"\\n\\nDeterminant of matrix 2\\n\",np.linalg.det(m2))"
   ]
  },
  {
   "cell_type": "code",
   "execution_count": 98,
   "id": "120b469e",
   "metadata": {},
   "outputs": [
    {
     "name": "stdout",
     "output_type": "stream",
     "text": [
      "Matrix 1 is singluar \n",
      "\n",
      "Inverse of matrix 2\n",
      " [[-3.          2.        ]\n",
      " [ 2.66666667 -1.66666667]]\n"
     ]
    }
   ],
   "source": [
    "# 6. Inverse\n",
    "\n",
    "if np.linalg.det(m1) != 0 :\n",
    "    print(\"Inverse of matrix 1\\n\",np.linalg.inv(m1))\n",
    "else:\n",
    "    print(\"Matrix 1 is singluar \\n\")\n",
    "\n",
    "if np.linalg.det(m2) != 0 :\n",
    "    print(\"Inverse of matrix 2\\n\",np.linalg.inv(m2))\n",
    "else:\n",
    "    print(\"Matrix 2 is singluar \")\n",
    "    \n",
    "#print(\"Inverse of matrix 1\\n\",np.linalg.inv(m1),\"\\n\\nInverse of matrix 2\\n\",np.linalg.inv(m2))"
   ]
  },
  {
   "cell_type": "code",
   "execution_count": 106,
   "id": "9e43f7d0",
   "metadata": {},
   "outputs": [
    {
     "name": "stdout",
     "output_type": "stream",
     "text": [
      "Eigen values of matrix 1\n",
      " EigResult(eigenvalues=array([0., 5.]), eigenvectors=matrix([[-0.89442719, -0.4472136 ],\n",
      "        [ 0.4472136 , -0.89442719]])) \n",
      "\n",
      "Eigen values of matrix 2\n",
      " EigResult(eigenvalues=array([-0.21110255, 14.21110255]), eigenvectors=matrix([[-0.75499722, -0.54580557],\n",
      "        [ 0.65572799, -0.83791185]]))\n"
     ]
    }
   ],
   "source": [
    "# 7. Eigen Values and Eigen Vectors\n",
    "\n",
    "print(\"Eigen values of matrix 1\\n\",np.linalg.eig(m1),\"\\n\\nEigen values of matrix 2\\n\",np.linalg.eig(m2))"
   ]
  },
  {
   "cell_type": "code",
   "execution_count": null,
   "id": "5ff7a26f",
   "metadata": {},
   "outputs": [],
   "source": []
  }
 ],
 "metadata": {
  "kernelspec": {
   "display_name": "Python 3 (ipykernel)",
   "language": "python",
   "name": "python3"
  },
  "language_info": {
   "codemirror_mode": {
    "name": "ipython",
    "version": 3
   },
   "file_extension": ".py",
   "mimetype": "text/x-python",
   "name": "python",
   "nbconvert_exporter": "python",
   "pygments_lexer": "ipython3",
   "version": "3.9.12"
  }
 },
 "nbformat": 4,
 "nbformat_minor": 5
}
