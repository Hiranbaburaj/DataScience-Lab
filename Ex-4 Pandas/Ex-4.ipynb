{
 "cells": [
  {
   "cell_type": "code",
   "execution_count": 2,
   "id": "64cf84af",
   "metadata": {},
   "outputs": [
    {
     "name": "stdout",
     "output_type": "stream",
     "text": [
      "Collecting pandas\n",
      "  Downloading pandas-2.1.2-cp39-cp39-manylinux_2_17_x86_64.manylinux2014_x86_64.whl (12.3 MB)\n",
      "\u001b[K     |████████████████████████████████| 12.3 MB 3.5 MB/s eta 0:00:01\n",
      "\u001b[?25hRequirement already satisfied: pytz>=2020.1 in ./miniconda3/lib/python3.9/site-packages (from pandas) (2022.7)\n",
      "Collecting tzdata>=2022.1\n",
      "  Downloading tzdata-2023.3-py2.py3-none-any.whl (341 kB)\n",
      "\u001b[K     |████████████████████████████████| 341 kB 70.7 MB/s eta 0:00:01\n",
      "\u001b[?25hRequirement already satisfied: numpy<2,>=1.22.4 in ./miniconda3/lib/python3.9/site-packages (from pandas) (1.26.0)\n",
      "Requirement already satisfied: python-dateutil>=2.8.2 in ./miniconda3/lib/python3.9/site-packages (from pandas) (2.8.2)\n",
      "Requirement already satisfied: six>=1.5 in ./miniconda3/lib/python3.9/site-packages (from python-dateutil>=2.8.2->pandas) (1.16.0)\n",
      "Installing collected packages: tzdata, pandas\n",
      "Successfully installed pandas-2.1.2 tzdata-2023.3\n",
      "Note: you may need to restart the kernel to use updated packages.\n"
     ]
    }
   ],
   "source": [
    "pip install pandas"
   ]
  },
  {
   "cell_type": "code",
   "execution_count": 1,
   "id": "5ecadf27",
   "metadata": {},
   "outputs": [],
   "source": [
    "import pandas as pd"
   ]
  },
  {
   "cell_type": "code",
   "execution_count": 12,
   "id": "0fc1e1a5",
   "metadata": {},
   "outputs": [
    {
     "name": "stdout",
     "output_type": "stream",
     "text": [
      "2.1.2\n"
     ]
    }
   ],
   "source": [
    "print(pd.__version__)"
   ]
  },
  {
   "cell_type": "code",
   "execution_count": 6,
   "id": "552a3329",
   "metadata": {},
   "outputs": [
    {
     "name": "stdout",
     "output_type": "stream",
     "text": [
      "Enter a list element separated by space 55 22 66 77\n",
      "0    55\n",
      "1    22\n",
      "2    66\n",
      "3    77\n",
      "dtype: object\n"
     ]
    }
   ],
   "source": [
    "#1. Write a python program to implement List-to-Series Conversion\n",
    "\n",
    "input_string = input(\"Enter a list element separated by space \")\n",
    "\n",
    "list1  = input_string.split()\n",
    "\n",
    "series = pd.Series(list1) #list to series\n",
    "\n",
    "print(series)"
   ]
  },
  {
   "cell_type": "code",
   "execution_count": 15,
   "id": "b3591ee0",
   "metadata": {},
   "outputs": [
    {
     "name": "stdout",
     "output_type": "stream",
     "text": [
      "2021-05-01 00:00:00\n",
      "2021-05-02 00:00:00\n",
      "2021-05-03 00:00:00\n",
      "2021-05-04 00:00:00\n",
      "2021-05-05 00:00:00\n",
      "2021-05-06 00:00:00\n",
      "2021-05-07 00:00:00\n",
      "2021-05-08 00:00:00\n",
      "2021-05-09 00:00:00\n",
      "2021-05-10 00:00:00\n",
      "2021-05-11 00:00:00\n",
      "2021-05-12 00:00:00\n"
     ]
    }
   ],
   "source": [
    "#2. Write a python program to Generate the series of dates from 1st May, 2021 to 12th May, 2021 (both inclusive).\n",
    "date_series = pd.date_range(start ='5-1-2021', end ='5-12-2021') \n",
    "  \n",
    "for dates in date_series: \n",
    "    print(dates) "
   ]
  },
  {
   "cell_type": "code",
   "execution_count": 13,
   "id": "4931ae1b",
   "metadata": {},
   "outputs": [
    {
     "name": "stdout",
     "output_type": "stream",
     "text": [
      "   Year  Sales\n",
      "0  2017    150\n",
      "1  2018    175\n",
      "2  2019    183\n",
      "3  2020     72\n",
      "4  2021    126\n",
      "5  2022    168\n",
      "6  2023    144\n"
     ]
    }
   ],
   "source": [
    "#3. Given a dictionary, convert it into corresponding dataframe and display it.\n",
    "data = {\"Year\": [2017, 2018, 2019, 2020, 2021, 2022, 2023],\n",
    "        \"Sales\": [150, 175, 183, 72, 126, 168, 144] }\n",
    "\n",
    "#load data into a DataFrame object:\n",
    "df = pd.DataFrame(data)\n",
    "\n",
    "print(df) "
   ]
  },
  {
   "cell_type": "code",
   "execution_count": 18,
   "id": "8695729b",
   "metadata": {},
   "outputs": [
    {
     "name": "stdout",
     "output_type": "stream",
     "text": [
      "   Year  Sales\n",
      "0  2017    150\n",
      "1  2018    175\n",
      "2  2019    183\n",
      "3  2020     72\n",
      "4  2021    126\n",
      "5  2022    168\n",
      "6  2023    144\n"
     ]
    }
   ],
   "source": [
    "#4. Given a 2D List, convert it into corresponding dataframe and display it.\n",
    "  \n",
    "data = [[2017, 150],[2018, 175],[2019, 183],\n",
    "        [2020, 72],[2021, 126],[2022, 168],[2023, 144]]  \n",
    "  \n",
    "# creating df object with columns specified     \n",
    "df = pd.DataFrame(data, columns =['Year', 'Sales'])  \n",
    "print(df) "
   ]
  },
  {
   "cell_type": "code",
   "execution_count": 22,
   "id": "153e1e8d",
   "metadata": {},
   "outputs": [
    {
     "name": "stdout",
     "output_type": "stream",
     "text": [
      "          Country  Capital City\n",
      "0           India     New Delhi\n",
      "1       Sri Lanka       Colombo\n",
      "2          Canada        Ottawa\n",
      "3  United Kingdom        London\n",
      "4           Egypt         Cairo\n",
      "5       Argentina  Buenos Aires\n"
     ]
    }
   ],
   "source": [
    "#5. Given a CSV file, read it into a dataframe and display it.\n",
    "df = pd.read_csv('data.csv')\n",
    "\n",
    "print(df.to_string()) "
   ]
  },
  {
   "cell_type": "code",
   "execution_count": 59,
   "id": "95668448",
   "metadata": {},
   "outputs": [
    {
     "name": "stdout",
     "output_type": "stream",
     "text": [
      "Asian Games 2023: Final medal table - Top 10 Countries\n"
     ]
    },
    {
     "data": {
      "text/html": [
       "<div>\n",
       "<style scoped>\n",
       "    .dataframe tbody tr th:only-of-type {\n",
       "        vertical-align: middle;\n",
       "    }\n",
       "\n",
       "    .dataframe tbody tr th {\n",
       "        vertical-align: top;\n",
       "    }\n",
       "\n",
       "    .dataframe thead th {\n",
       "        text-align: right;\n",
       "    }\n",
       "</style>\n",
       "<table border=\"1\" class=\"dataframe\">\n",
       "  <thead>\n",
       "    <tr style=\"text-align: right;\">\n",
       "      <th></th>\n",
       "      <th>Team/NOC</th>\n",
       "      <th>Gold</th>\n",
       "      <th>Silver</th>\n",
       "      <th>Bronze</th>\n",
       "    </tr>\n",
       "  </thead>\n",
       "  <tbody>\n",
       "    <tr>\n",
       "      <th>3</th>\n",
       "      <td>Peoples Republic of China (CHN)</td>\n",
       "      <td>201</td>\n",
       "      <td>111</td>\n",
       "      <td>71</td>\n",
       "    </tr>\n",
       "    <tr>\n",
       "      <th>9</th>\n",
       "      <td>Japan (JPN)</td>\n",
       "      <td>52</td>\n",
       "      <td>67</td>\n",
       "      <td>69</td>\n",
       "    </tr>\n",
       "    <tr>\n",
       "      <th>5</th>\n",
       "      <td>Republic of Korea (KOR)</td>\n",
       "      <td>48</td>\n",
       "      <td>59</td>\n",
       "      <td>89</td>\n",
       "    </tr>\n",
       "    <tr>\n",
       "      <th>1</th>\n",
       "      <td>India (IND)</td>\n",
       "      <td>28</td>\n",
       "      <td>38</td>\n",
       "      <td>41</td>\n",
       "    </tr>\n",
       "    <tr>\n",
       "      <th>8</th>\n",
       "      <td>Uzbekistan (UZB)</td>\n",
       "      <td>22</td>\n",
       "      <td>18</td>\n",
       "      <td>31</td>\n",
       "    </tr>\n",
       "    <tr>\n",
       "      <th>2</th>\n",
       "      <td>Chinese Taipei (TPE)</td>\n",
       "      <td>19</td>\n",
       "      <td>20</td>\n",
       "      <td>28</td>\n",
       "    </tr>\n",
       "    <tr>\n",
       "      <th>6</th>\n",
       "      <td>Iran (IRI)</td>\n",
       "      <td>13</td>\n",
       "      <td>21</td>\n",
       "      <td>20</td>\n",
       "    </tr>\n",
       "    <tr>\n",
       "      <th>0</th>\n",
       "      <td>Thailand (THA)</td>\n",
       "      <td>12</td>\n",
       "      <td>14</td>\n",
       "      <td>32</td>\n",
       "    </tr>\n",
       "    <tr>\n",
       "      <th>4</th>\n",
       "      <td>Bahrain (BRN)</td>\n",
       "      <td>12</td>\n",
       "      <td>3</td>\n",
       "      <td>5</td>\n",
       "    </tr>\n",
       "    <tr>\n",
       "      <th>7</th>\n",
       "      <td>D.P.R. Korea (PRK)</td>\n",
       "      <td>11</td>\n",
       "      <td>18</td>\n",
       "      <td>10</td>\n",
       "    </tr>\n",
       "  </tbody>\n",
       "</table>\n",
       "</div>"
      ],
      "text/plain": [
       "                          Team/NOC  Gold  Silver  Bronze\n",
       "3  Peoples Republic of China (CHN)   201     111      71\n",
       "9                      Japan (JPN)    52      67      69\n",
       "5          Republic of Korea (KOR)    48      59      89\n",
       "1                      India (IND)    28      38      41\n",
       "8                 Uzbekistan (UZB)    22      18      31\n",
       "2             Chinese Taipei (TPE)    19      20      28\n",
       "6                       Iran (IRI)    13      21      20\n",
       "0                   Thailand (THA)    12      14      32\n",
       "4                    Bahrain (BRN)    12       3       5\n",
       "7               D.P.R. Korea (PRK)    11      18      10"
      ]
     },
     "execution_count": 59,
     "metadata": {},
     "output_type": "execute_result"
    }
   ],
   "source": [
    "#6. Given a dataframe, sort it by multiple columns\n",
    "\n",
    "df = pd.DataFrame({'Team/NOC': ['Thailand (THA)','India (IND)','Chinese Taipei (TPE)','Peoples Republic of China (CHN)','Bahrain (BRN)','Republic of Korea (KOR)',\n",
    "                               'Iran (IRI)','D.P.R. Korea (PRK)','Uzbekistan (UZB)','Japan (JPN)'],\n",
    "                   'Gold': [12, 28, 19, 201, 12, 48, 13, 11, 22, 52],\n",
    "                   'Silver': [14, 38, 20, 111,3 ,59, 21, 18, 18, 67],\n",
    "                  'Bronze':[32, 41, 28, 71, 5,89,20,10, 31, 69]})\n",
    " \n",
    "# printing the dataframe\n",
    "print('Asian Games 2023: Final medal table - Top 10 Countries')\n",
    "\n",
    "df.sort_values(by = ['Gold', 'Silver'], ascending = [False, False])"
   ]
  },
  {
   "cell_type": "code",
   "execution_count": 64,
   "id": "bb872e57",
   "metadata": {},
   "outputs": [
    {
     "name": "stdout",
     "output_type": "stream",
     "text": [
      "                                 Gold  Silver  Bronze\n",
      "Team/NOC                                             \n",
      "Thailand (THA)                     12      14      32\n",
      "India (IND)                        28      38      41\n",
      "Chinese Taipei (TPE)               19      20      28\n",
      "Peoples Republic of China (CHN)   201     111      71\n",
      "Bahrain (BRN)                      12       3       5\n",
      "Republic of Korea (KOR)            48      59      89\n",
      "Iran (IRI)                         13      21      20\n",
      "D.P.R. Korea (PRK)                 11      18      10\n",
      "Uzbekistan (UZB)                   22      18      31\n",
      "Japan (JPN)                        52      67      69 \n",
      "\n",
      "                          Team/NOC  Gold  Silver  Bronze\n",
      "0                   Thailand (THA)    12      14      32\n",
      "1                      India (IND)    28      38      41\n",
      "2             Chinese Taipei (TPE)    19      20      28\n",
      "3  Peoples Republic of China (CHN)   201     111      71\n",
      "4                    Bahrain (BRN)    12       3       5\n",
      "5          Republic of Korea (KOR)    48      59      89\n",
      "6                       Iran (IRI)    13      21      20\n",
      "7               D.P.R. Korea (PRK)    11      18      10\n",
      "8                 Uzbekistan (UZB)    22      18      31\n",
      "9                      Japan (JPN)    52      67      69\n"
     ]
    }
   ],
   "source": [
    "#7. Given a dataframe with custom indexing, convert and it to default indexing and display it.\n",
    "\n",
    "\n",
    "df.set_index(\"Team/NOC\", inplace = True)\n",
    "print(df,'\\n') \n",
    "df.reset_index(\"Team/NOC\", inplace = True)\n",
    "\n",
    "print(df)\n"
   ]
  },
  {
   "cell_type": "code",
   "execution_count": 65,
   "id": "2157feea",
   "metadata": {},
   "outputs": [
    {
     "data": {
      "text/html": [
       "<div>\n",
       "<style scoped>\n",
       "    .dataframe tbody tr th:only-of-type {\n",
       "        vertical-align: middle;\n",
       "    }\n",
       "\n",
       "    .dataframe tbody tr th {\n",
       "        vertical-align: top;\n",
       "    }\n",
       "\n",
       "    .dataframe thead th {\n",
       "        text-align: right;\n",
       "    }\n",
       "</style>\n",
       "<table border=\"1\" class=\"dataframe\">\n",
       "  <thead>\n",
       "    <tr style=\"text-align: right;\">\n",
       "      <th></th>\n",
       "      <th>Team/NOC</th>\n",
       "      <th>Gold</th>\n",
       "      <th>Silver</th>\n",
       "      <th>Bronze</th>\n",
       "    </tr>\n",
       "  </thead>\n",
       "  <tbody>\n",
       "    <tr>\n",
       "      <th>0</th>\n",
       "      <td>Thailand (THA)</td>\n",
       "      <td>12</td>\n",
       "      <td>14</td>\n",
       "      <td>32</td>\n",
       "    </tr>\n",
       "    <tr>\n",
       "      <th>1</th>\n",
       "      <td>India (IND)</td>\n",
       "      <td>28</td>\n",
       "      <td>38</td>\n",
       "      <td>41</td>\n",
       "    </tr>\n",
       "  </tbody>\n",
       "</table>\n",
       "</div>"
      ],
      "text/plain": [
       "         Team/NOC  Gold  Silver  Bronze\n",
       "0  Thailand (THA)    12      14      32\n",
       "1     India (IND)    28      38      41"
      ]
     },
     "execution_count": 65,
     "metadata": {},
     "output_type": "execute_result"
    }
   ],
   "source": [
    "#8. Given a dataframe, select first 2 rows and output them.\n",
    "\n",
    "df.head(2) "
   ]
  },
  {
   "cell_type": "code",
   "execution_count": 70,
   "id": "b72b7c22",
   "metadata": {},
   "outputs": [
    {
     "name": "stdout",
     "output_type": "stream",
     "text": [
      "      Name Occupation  Salary\n",
      "0      Bob    Teacher   35000\n",
      "1    Alice     Doctor   63000\n",
      "2   Robert     Driver   13000\n",
      "3    Henry    Teacher   32000\n",
      "4   Graham     Doctor   65000\n",
      "5  Patrick     Driver   15000\n",
      "6     Paul    Teacher   33000\n"
     ]
    },
    {
     "data": {
      "text/plain": [
       "Occupation\n",
       "Doctor     64000.000000\n",
       "Driver     14000.000000\n",
       "Teacher    33333.333333\n",
       "Name: Salary, dtype: float64"
      ]
     },
     "execution_count": 70,
     "metadata": {},
     "output_type": "execute_result"
    }
   ],
   "source": [
    "#9. Given is a dataframe showing name, occupation, salary of people. Find the average salary per occupation.\n",
    "\n",
    "df = pd.DataFrame({'Name': ['Bob','Alice','Robert','Henry','Graham','Patrick','Paul'],\n",
    "                  'Occupation': ['Teacher','Doctor','Driver','Teacher','Doctor','Driver','Teacher'],\n",
    "                  'Salary': [35000,63000,13000,32000,65000,15000,33000]})\n",
    "print(df) \n",
    "\n",
    "df.groupby('Occupation')['Salary'].mean()"
   ]
  },
  {
   "cell_type": "code",
   "execution_count": 73,
   "id": "9970bfdd",
   "metadata": {},
   "outputs": [
    {
     "data": {
      "text/html": [
       "<div>\n",
       "<style scoped>\n",
       "    .dataframe tbody tr th:only-of-type {\n",
       "        vertical-align: middle;\n",
       "    }\n",
       "\n",
       "    .dataframe tbody tr th {\n",
       "        vertical-align: top;\n",
       "    }\n",
       "\n",
       "    .dataframe thead th {\n",
       "        text-align: right;\n",
       "    }\n",
       "</style>\n",
       "<table border=\"1\" class=\"dataframe\">\n",
       "  <thead>\n",
       "    <tr style=\"text-align: right;\">\n",
       "      <th></th>\n",
       "      <th>Numbers</th>\n",
       "    </tr>\n",
       "  </thead>\n",
       "  <tbody>\n",
       "    <tr>\n",
       "      <th>0</th>\n",
       "      <td>55.0</td>\n",
       "    </tr>\n",
       "    <tr>\n",
       "      <th>1</th>\n",
       "      <td>49.0</td>\n",
       "    </tr>\n",
       "    <tr>\n",
       "      <th>2</th>\n",
       "      <td>32.0</td>\n",
       "    </tr>\n",
       "    <tr>\n",
       "      <th>3</th>\n",
       "      <td>0.0</td>\n",
       "    </tr>\n",
       "    <tr>\n",
       "      <th>4</th>\n",
       "      <td>67.0</td>\n",
       "    </tr>\n",
       "    <tr>\n",
       "      <th>5</th>\n",
       "      <td>11.0</td>\n",
       "    </tr>\n",
       "    <tr>\n",
       "      <th>6</th>\n",
       "      <td>0.0</td>\n",
       "    </tr>\n",
       "  </tbody>\n",
       "</table>\n",
       "</div>"
      ],
      "text/plain": [
       "   Numbers\n",
       "0     55.0\n",
       "1     49.0\n",
       "2     32.0\n",
       "3      0.0\n",
       "4     67.0\n",
       "5     11.0\n",
       "6      0.0"
      ]
     },
     "execution_count": 73,
     "metadata": {},
     "output_type": "execute_result"
    }
   ],
   "source": [
    "#10. Given a dataframe with NaN Values, fill the NaN values with 0.\n",
    "\n",
    "import numpy as np\n",
    "\n",
    "df = pd.DataFrame({'Numbers':[55,49,32,np.nan,67,11,np.nan]})\n",
    "\n",
    "df.fillna(0)"
   ]
  },
  {
   "cell_type": "code",
   "execution_count": 79,
   "id": "93b55786",
   "metadata": {},
   "outputs": [
    {
     "name": "stdout",
     "output_type": "stream",
     "text": [
      "                cname  profit\n",
      "0    Stark Industries    True\n",
      "1  Fregata Industries   False\n",
      "2      Bromley Sports    True\n",
      "3      Marco Donateli   False\n"
     ]
    }
   ],
   "source": [
    "#11. Given is a dataframe showing Company Names (cname) and corresponding Profits\n",
    "# (profit). Convert the values of Profit column such that values in it greater than 0 are\n",
    "# set to True and the rest are set to False.\n",
    "\n",
    "df = pd.DataFrame({'cname':['Stark Industries','Fregata Industries','Bromley Sports', 'Marco Donateli'],\n",
    "                  'profit':[1500000,-2400000,6540000,-502000]})\n",
    "df[\"profit\"] = df[\"profit\"] > 0\n",
    "\n",
    "print(df)"
   ]
  },
  {
   "cell_type": "code",
   "execution_count": 81,
   "id": "ec98d731",
   "metadata": {},
   "outputs": [
    {
     "data": {
      "text/html": [
       "<div>\n",
       "<style scoped>\n",
       "    .dataframe tbody tr th:only-of-type {\n",
       "        vertical-align: middle;\n",
       "    }\n",
       "\n",
       "    .dataframe tbody tr th {\n",
       "        vertical-align: top;\n",
       "    }\n",
       "\n",
       "    .dataframe thead th {\n",
       "        text-align: right;\n",
       "    }\n",
       "</style>\n",
       "<table border=\"1\" class=\"dataframe\">\n",
       "  <thead>\n",
       "    <tr style=\"text-align: right;\">\n",
       "      <th></th>\n",
       "      <th>eid</th>\n",
       "      <th>ename</th>\n",
       "      <th>stipend</th>\n",
       "      <th>designation</th>\n",
       "    </tr>\n",
       "  </thead>\n",
       "  <tbody>\n",
       "    <tr>\n",
       "      <th>0</th>\n",
       "      <td>11</td>\n",
       "      <td>Bob</td>\n",
       "      <td>10000</td>\n",
       "      <td>Employee</td>\n",
       "    </tr>\n",
       "    <tr>\n",
       "      <th>1</th>\n",
       "      <td>12</td>\n",
       "      <td>Alice</td>\n",
       "      <td>10000</td>\n",
       "      <td>Employee</td>\n",
       "    </tr>\n",
       "    <tr>\n",
       "      <th>2</th>\n",
       "      <td>13</td>\n",
       "      <td>Robert</td>\n",
       "      <td>5000</td>\n",
       "      <td>Intern</td>\n",
       "    </tr>\n",
       "    <tr>\n",
       "      <th>3</th>\n",
       "      <td>14</td>\n",
       "      <td>Henry</td>\n",
       "      <td>15000</td>\n",
       "      <td>Senior Employee</td>\n",
       "    </tr>\n",
       "    <tr>\n",
       "      <th>4</th>\n",
       "      <td>15</td>\n",
       "      <td>Graham</td>\n",
       "      <td>5000</td>\n",
       "      <td>Intern</td>\n",
       "    </tr>\n",
       "    <tr>\n",
       "      <th>5</th>\n",
       "      <td>16</td>\n",
       "      <td>Patrick</td>\n",
       "      <td>10000</td>\n",
       "      <td>Employee</td>\n",
       "    </tr>\n",
       "    <tr>\n",
       "      <th>6</th>\n",
       "      <td>17</td>\n",
       "      <td>Paul</td>\n",
       "      <td>10000</td>\n",
       "      <td>Employee</td>\n",
       "    </tr>\n",
       "  </tbody>\n",
       "</table>\n",
       "</div>"
      ],
      "text/plain": [
       "   eid    ename  stipend      designation\n",
       "0   11      Bob    10000         Employee\n",
       "1   12    Alice    10000         Employee\n",
       "2   13   Robert     5000           Intern\n",
       "3   14    Henry    15000  Senior Employee\n",
       "4   15   Graham     5000           Intern\n",
       "5   16  Patrick    10000         Employee\n",
       "6   17     Paul    10000         Employee"
      ]
     },
     "execution_count": 81,
     "metadata": {},
     "output_type": "execute_result"
    }
   ],
   "source": [
    "#12. Given are 2 dataframes, with one dataframe containing Employee ID (eid), Employee\n",
    "# Name (ename) and Stipend (stipend) and the other dataframe containing Employee ID\n",
    "# (eid) and designation of the employee (designation). Output the Dataframe containing\n",
    "# Employee ID (eid), Employee Name (ename), Stipend (stipend) and Position\n",
    "# (position).\n",
    "\n",
    "df1 = pd.DataFrame({'eid':[11,12,13,14,15,16,17],\n",
    "                   'ename':['Bob','Alice','Robert','Henry','Graham','Patrick','Paul'],\n",
    "                   'stipend':[10000,10000,5000,15000,5000,10000,10000]})\n",
    "\n",
    "df2 = pd.DataFrame({'eid':[11,12,13,14,15,16,17],\n",
    "                   'designation':[\"Employee\",\"Employee\",\"Intern\",\"Senior Employee\",\"Intern\",\"Employee\",\"Employee\"]})\n",
    "\n",
    "dataframe = pd.merge(df1, df2, how = 'inner', on = 'eid')\n",
    "\n",
    "dataframe"
   ]
  },
  {
   "cell_type": "code",
   "execution_count": null,
   "id": "2c80bf69",
   "metadata": {},
   "outputs": [],
   "source": []
  }
 ],
 "metadata": {
  "kernelspec": {
   "display_name": "Python 3 (ipykernel)",
   "language": "python",
   "name": "python3"
  },
  "language_info": {
   "codemirror_mode": {
    "name": "ipython",
    "version": 3
   },
   "file_extension": ".py",
   "mimetype": "text/x-python",
   "name": "python",
   "nbconvert_exporter": "python",
   "pygments_lexer": "ipython3",
   "version": "3.9.12"
  }
 },
 "nbformat": 4,
 "nbformat_minor": 5
}
