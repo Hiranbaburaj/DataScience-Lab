{
 "cells": [
  {
   "cell_type": "code",
   "execution_count": 16,
   "id": "c7ec98d5",
   "metadata": {},
   "outputs": [],
   "source": [
    "# Import all the necessary Libraries"
   ]
  },
  {
   "cell_type": "code",
   "execution_count": 17,
   "id": "8574b2c9",
   "metadata": {},
   "outputs": [],
   "source": [
    "from sklearn.model_selection import train_test_split\n",
    "from sklearn.datasets import load_iris\n",
    "from sklearn.neighbors import KNeighborsClassifier \n",
    "from sklearn.metrics import accuracy_score\n",
    "import pandas as pd"
   ]
  },
  {
   "cell_type": "code",
   "execution_count": 18,
   "id": "21f470b9",
   "metadata": {},
   "outputs": [
    {
     "name": "stdout",
     "output_type": "stream",
     "text": [
      "['DESCR', 'data', 'feature_names', 'filename', 'frame', 'target', 'target_names']\n"
     ]
    }
   ],
   "source": [
    "# Loading iris dataset\n",
    "iris = load_iris()\n",
    "# Print the keys of iris dataset\n",
    "print(dir(iris))"
   ]
  },
  {
   "cell_type": "code",
   "execution_count": 19,
   "id": "ad379d06",
   "metadata": {},
   "outputs": [
    {
     "name": "stdout",
     "output_type": "stream",
     "text": [
      "The features of iris flower: ['sepal length (cm)', 'sepal width (cm)', 'petal length (cm)', 'petal width (cm)']\n",
      "The 3 types of iris flower: ['setosa' 'versicolor' 'virginica']\n"
     ]
    }
   ],
   "source": [
    "print(f\"The features of iris flower: {iris.feature_names}\")\n",
    "print(f\"The 3 types of iris flower: {iris.target_names}\")"
   ]
  },
  {
   "cell_type": "code",
   "execution_count": 20,
   "id": "b4d9ee27",
   "metadata": {},
   "outputs": [],
   "source": [
    "# Assign the data to X , Assign the target (which type of flower is the given row of data is) to y\n",
    "X = iris.data\n",
    "y = iris.target"
   ]
  },
  {
   "cell_type": "code",
   "execution_count": 21,
   "id": "e9e06ef3",
   "metadata": {},
   "outputs": [
    {
     "name": "stdout",
     "output_type": "stream",
     "text": [
      "       0    1    2    3\n",
      "0    5.1  3.5  1.4  0.2\n",
      "1    4.9  3.0  1.4  0.2\n",
      "2    4.7  3.2  1.3  0.2\n",
      "3    4.6  3.1  1.5  0.2\n",
      "4    5.0  3.6  1.4  0.2\n",
      "..   ...  ...  ...  ...\n",
      "145  6.7  3.0  5.2  2.3\n",
      "146  6.3  2.5  5.0  1.9\n",
      "147  6.5  3.0  5.2  2.0\n",
      "148  6.2  3.4  5.4  2.3\n",
      "149  5.9  3.0  5.1  1.8\n",
      "\n",
      "[150 rows x 4 columns]\n",
      "     0\n",
      "0    0\n",
      "1    0\n",
      "2    0\n",
      "3    0\n",
      "4    0\n",
      "..  ..\n",
      "145  2\n",
      "146  2\n",
      "147  2\n",
      "148  2\n",
      "149  2\n",
      "\n",
      "[150 rows x 1 columns]\n"
     ]
    }
   ],
   "source": [
    "print(pd.DataFrame(X))\n",
    "print(pd.DataFrame(y))"
   ]
  },
  {
   "cell_type": "code",
   "execution_count": 22,
   "id": "22ed0e41",
   "metadata": {},
   "outputs": [],
   "source": [
    "# Assigns training data & testing data of X & y\n",
    "# train_size=0.7 :- 70% of data is used to train the model & the remaining data is used to test\n",
    "X_train, X_test, y_train, y_test = train_test_split( X, y, train_size=0.7, random_state=1)"
   ]
  },
  {
   "cell_type": "code",
   "execution_count": 23,
   "id": "06e5a4e5",
   "metadata": {},
   "outputs": [
    {
     "name": "stdout",
     "output_type": "stream",
     "text": [
      "Accuracy: 97.77777777777777 %\n"
     ]
    }
   ],
   "source": [
    "# 3 Nearest neighbors will be taken\n",
    "clf = KNeighborsClassifier(n_neighbors = 3)\n",
    "\n",
    "# Training the dataset\n",
    "clf.fit(X_train,y_train)\n",
    "\n",
    "# Predict the target of testing data of X\n",
    "y_pred = clf.predict(X_test)\n",
    "\n",
    "# Comparing the predicted target of trained data of X with Actual Target\n",
    "print(f\"Accuracy: {accuracy_score(y_test,y_pred)*100} %\")"
   ]
  },
  {
   "cell_type": "code",
   "execution_count": 24,
   "id": "5ae72fa2",
   "metadata": {},
   "outputs": [
    {
     "name": "stdout",
     "output_type": "stream",
     "text": [
      "[0]\n",
      "['setosa']\n"
     ]
    }
   ],
   "source": [
    "# predict with a sample data\n",
    "pr = clf.predict([[1.2,2.3,2.0,2.1]])\n",
    "print(pr)\n",
    "print(iris.target_names[pr])"
   ]
  },
  {
   "cell_type": "code",
   "execution_count": 25,
   "id": "1f793fd6",
   "metadata": {},
   "outputs": [
    {
     "data": {
      "text/html": [
       "<div>\n",
       "<style scoped>\n",
       "    .dataframe tbody tr th:only-of-type {\n",
       "        vertical-align: middle;\n",
       "    }\n",
       "\n",
       "    .dataframe tbody tr th {\n",
       "        vertical-align: top;\n",
       "    }\n",
       "\n",
       "    .dataframe thead th {\n",
       "        text-align: right;\n",
       "    }\n",
       "</style>\n",
       "<table border=\"1\" class=\"dataframe\">\n",
       "  <thead>\n",
       "    <tr style=\"text-align: right;\">\n",
       "      <th></th>\n",
       "      <th>English</th>\n",
       "      <th>Maths</th>\n",
       "      <th>Science</th>\n",
       "      <th>Result</th>\n",
       "    </tr>\n",
       "  </thead>\n",
       "  <tbody>\n",
       "    <tr>\n",
       "      <th>0</th>\n",
       "      <td>90</td>\n",
       "      <td>85</td>\n",
       "      <td>92</td>\n",
       "      <td>Outstanding</td>\n",
       "    </tr>\n",
       "    <tr>\n",
       "      <th>1</th>\n",
       "      <td>78</td>\n",
       "      <td>92</td>\n",
       "      <td>88</td>\n",
       "      <td>Good</td>\n",
       "    </tr>\n",
       "    <tr>\n",
       "      <th>2</th>\n",
       "      <td>65</td>\n",
       "      <td>70</td>\n",
       "      <td>75</td>\n",
       "      <td>Average</td>\n",
       "    </tr>\n",
       "    <tr>\n",
       "      <th>3</th>\n",
       "      <td>88</td>\n",
       "      <td>95</td>\n",
       "      <td>89</td>\n",
       "      <td>Outstanding</td>\n",
       "    </tr>\n",
       "    <tr>\n",
       "      <th>4</th>\n",
       "      <td>75</td>\n",
       "      <td>80</td>\n",
       "      <td>82</td>\n",
       "      <td>Good</td>\n",
       "    </tr>\n",
       "    <tr>\n",
       "      <th>5</th>\n",
       "      <td>92</td>\n",
       "      <td>88</td>\n",
       "      <td>94</td>\n",
       "      <td>Outstanding</td>\n",
       "    </tr>\n",
       "    <tr>\n",
       "      <th>6</th>\n",
       "      <td>70</td>\n",
       "      <td>65</td>\n",
       "      <td>68</td>\n",
       "      <td>Average</td>\n",
       "    </tr>\n",
       "    <tr>\n",
       "      <th>7</th>\n",
       "      <td>85</td>\n",
       "      <td>78</td>\n",
       "      <td>80</td>\n",
       "      <td>Good</td>\n",
       "    </tr>\n",
       "    <tr>\n",
       "      <th>8</th>\n",
       "      <td>60</td>\n",
       "      <td>72</td>\n",
       "      <td>67</td>\n",
       "      <td>Average</td>\n",
       "    </tr>\n",
       "    <tr>\n",
       "      <th>9</th>\n",
       "      <td>93</td>\n",
       "      <td>90</td>\n",
       "      <td>91</td>\n",
       "      <td>Outstanding</td>\n",
       "    </tr>\n",
       "    <tr>\n",
       "      <th>10</th>\n",
       "      <td>82</td>\n",
       "      <td>86</td>\n",
       "      <td>88</td>\n",
       "      <td>Good</td>\n",
       "    </tr>\n",
       "    <tr>\n",
       "      <th>11</th>\n",
       "      <td>77</td>\n",
       "      <td>75</td>\n",
       "      <td>79</td>\n",
       "      <td>Average</td>\n",
       "    </tr>\n",
       "    <tr>\n",
       "      <th>12</th>\n",
       "      <td>89</td>\n",
       "      <td>94</td>\n",
       "      <td>90</td>\n",
       "      <td>Outstanding</td>\n",
       "    </tr>\n",
       "    <tr>\n",
       "      <th>13</th>\n",
       "      <td>73</td>\n",
       "      <td>68</td>\n",
       "      <td>72</td>\n",
       "      <td>Average</td>\n",
       "    </tr>\n",
       "    <tr>\n",
       "      <th>14</th>\n",
       "      <td>84</td>\n",
       "      <td>79</td>\n",
       "      <td>83</td>\n",
       "      <td>Good</td>\n",
       "    </tr>\n",
       "    <tr>\n",
       "      <th>15</th>\n",
       "      <td>95</td>\n",
       "      <td>91</td>\n",
       "      <td>96</td>\n",
       "      <td>Outstanding</td>\n",
       "    </tr>\n",
       "    <tr>\n",
       "      <th>16</th>\n",
       "      <td>69</td>\n",
       "      <td>74</td>\n",
       "      <td>77</td>\n",
       "      <td>Average</td>\n",
       "    </tr>\n",
       "    <tr>\n",
       "      <th>17</th>\n",
       "      <td>79</td>\n",
       "      <td>83</td>\n",
       "      <td>85</td>\n",
       "      <td>Good</td>\n",
       "    </tr>\n",
       "    <tr>\n",
       "      <th>18</th>\n",
       "      <td>87</td>\n",
       "      <td>89</td>\n",
       "      <td>86</td>\n",
       "      <td>Outstanding</td>\n",
       "    </tr>\n",
       "    <tr>\n",
       "      <th>19</th>\n",
       "      <td>71</td>\n",
       "      <td>76</td>\n",
       "      <td>74</td>\n",
       "      <td>Average</td>\n",
       "    </tr>\n",
       "  </tbody>\n",
       "</table>\n",
       "</div>"
      ],
      "text/plain": [
       "    English  Maths  Science       Result\n",
       "0        90     85       92  Outstanding\n",
       "1        78     92       88         Good\n",
       "2        65     70       75      Average\n",
       "3        88     95       89  Outstanding\n",
       "4        75     80       82         Good\n",
       "5        92     88       94  Outstanding\n",
       "6        70     65       68      Average\n",
       "7        85     78       80         Good\n",
       "8        60     72       67      Average\n",
       "9        93     90       91  Outstanding\n",
       "10       82     86       88         Good\n",
       "11       77     75       79      Average\n",
       "12       89     94       90  Outstanding\n",
       "13       73     68       72      Average\n",
       "14       84     79       83         Good\n",
       "15       95     91       96  Outstanding\n",
       "16       69     74       77      Average\n",
       "17       79     83       85         Good\n",
       "18       87     89       86  Outstanding\n",
       "19       71     76       74      Average"
      ]
     },
     "execution_count": 25,
     "metadata": {},
     "output_type": "execute_result"
    }
   ],
   "source": [
    "# Import Custom Dataset\n",
    "marks=pd.read_csv(\"marks.csv\")\n",
    "marks"
   ]
  },
  {
   "cell_type": "code",
   "execution_count": 26,
   "id": "fc60ace0",
   "metadata": {},
   "outputs": [
    {
     "name": "stdout",
     "output_type": "stream",
     "text": [
      "   English  Maths  Science       Result\n",
      "0       90     85       92  Outstanding\n",
      "1       78     92       88         Good\n",
      "2       65     70       75      Average\n",
      "3       88     95       89  Outstanding\n",
      "4       75     80       82         Good\n",
      "Index(['English', 'Maths', 'Science', 'Result'], dtype='object')\n"
     ]
    }
   ],
   "source": [
    "print(marks.head())\n",
    "print(marks.columns)"
   ]
  },
  {
   "cell_type": "code",
   "execution_count": 27,
   "id": "e9dbcee4",
   "metadata": {},
   "outputs": [],
   "source": [
    "# Select the 1st 3 Columns of marks\n",
    "x_values = marks.iloc[:,[0,1,2]]\n",
    "y = marks.iloc[:,[3]]\n",
    "# Converting the 'y' values to a 1D array using 'reshape'\n",
    "# The -1 that Pandas should automatically infer the size along that dimension, making it a flat 1D array.\n",
    "y_values = y.values.reshape(-1,)"
   ]
  },
  {
   "cell_type": "code",
   "execution_count": 28,
   "id": "df505ad8",
   "metadata": {},
   "outputs": [],
   "source": [
    "clf = KNeighborsClassifier(n_neighbors=3)"
   ]
  },
  {
   "cell_type": "code",
   "execution_count": 29,
   "id": "4efb3878",
   "metadata": {},
   "outputs": [
    {
     "data": {
      "text/plain": [
       "KNeighborsClassifier(n_neighbors=3)"
      ]
     },
     "execution_count": 29,
     "metadata": {},
     "output_type": "execute_result"
    }
   ],
   "source": [
    "clf.fit(x_values,y_values)"
   ]
  },
  {
   "cell_type": "code",
   "execution_count": 30,
   "id": "42d90a51",
   "metadata": {},
   "outputs": [
    {
     "name": "stdout",
     "output_type": "stream",
     "text": [
      "The result for the given sample data is : ['Average']\n"
     ]
    }
   ],
   "source": [
    "sample=[[70,70,70]]\n",
    "print(f'The result for the given sample data is : {clf.predict(sample)}')"
   ]
  },
  {
   "cell_type": "code",
   "execution_count": null,
   "id": "34cabe11",
   "metadata": {},
   "outputs": [],
   "source": []
  },
  {
   "cell_type": "code",
   "execution_count": null,
   "id": "f9f8488d",
   "metadata": {},
   "outputs": [],
   "source": []
  }
 ],
 "metadata": {
  "kernelspec": {
   "display_name": "Python 3",
   "language": "python",
   "name": "python3"
  },
  "language_info": {
   "codemirror_mode": {
    "name": "ipython",
    "version": 3
   },
   "file_extension": ".py",
   "mimetype": "text/x-python",
   "name": "python",
   "nbconvert_exporter": "python",
   "pygments_lexer": "ipython3",
   "version": "3.8.8"
  }
 },
 "nbformat": 4,
 "nbformat_minor": 5
}
