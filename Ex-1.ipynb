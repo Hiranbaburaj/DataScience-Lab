{
 "cells": [
  {
   "cell_type": "code",
   "execution_count": 2,
   "metadata": {},
   "outputs": [],
   "source": [
    "import numpy as np"
   ]
  },
  {
   "cell_type": "code",
   "execution_count": 23,
   "metadata": {},
   "outputs": [
    {
     "name": "stdout",
     "output_type": "stream",
     "text": [
      "Greater than Check:  [False  True False False]\n",
      "Greater than or Equal to Check:  [False  True False  True]\n",
      "Lesser than Check:  [ True False  True False]\n",
      "Lesser than or Equal to Check:  [ True False  True  True]\n",
      "Equal to Check:  [False False False  True] \n",
      "\n"
     ]
    }
   ],
   "source": [
    "# Exercise 1\n",
    "# Qn 1\n",
    "# Array Comparison\n",
    "\n",
    "a = np.array([1,2,3,7])\n",
    "b = np.array([3,1,5,7])\n",
    "\n",
    "print(\"Greater than Check: \",np.greater(a,b))\n",
    "print(\"Greater than or Equal to Check: \",np.greater_equal(a,b))\n",
    "print(\"Lesser than Check: \",np.less(a,b))\n",
    "print(\"Lesser than or Equal to Check: \",np.less_equal(a,b))\n",
    "print(\"Equal to Check: \",np.equal(a,b),\"\\n\")\n"
   ]
  },
  {
   "cell_type": "code",
   "execution_count": 35,
   "metadata": {},
   "outputs": [
    {
     "name": "stdout",
     "output_type": "stream",
     "text": [
      "Array of All Even Integers from 30 to 70: [30 32 34 36 38 40 42 44 46 48 50 52 54 56 58 60 62 64 66 68 70]\n"
     ]
    }
   ],
   "source": [
    "# Exercise 1\n",
    "# Qn 2\n",
    "# Create an Array of All Even Integers from 30 to 70\n",
    "\n",
    "x=np.arange(30,71,2)\n",
    "\n",
    "print(\"Array of All Even Integers from 30 to 70:\",x)"
   ]
  },
  {
   "cell_type": "code",
   "execution_count": 132,
   "metadata": {},
   "outputs": [
    {
     "name": "stdout",
     "output_type": "stream",
     "text": [
      "3x3 identity Matrix: \n"
     ]
    },
    {
     "data": {
      "text/plain": [
       "array([[1, 0, 0],\n",
       "       [0, 1, 0],\n",
       "       [0, 0, 1]])"
      ]
     },
     "execution_count": 132,
     "metadata": {},
     "output_type": "execute_result"
    }
   ],
   "source": [
    "# Exercise 1\n",
    "# Qn 3\n",
    "# Create a 3x3 identity Matrix\n",
    "\n",
    "print(\"3x3 identity Matrix: \")\n",
    "np.identity(3,dtype = int)"
   ]
  },
  {
   "cell_type": "code",
   "execution_count": 41,
   "metadata": {},
   "outputs": [
    {
     "name": "stdout",
     "output_type": "stream",
     "text": [
      "[  0   1   2   3   4   5   6   7   8  -9 -10 -11 -12 -13 -14 -15  16  17\n",
      "  18  19  20]\n"
     ]
    }
   ],
   "source": [
    "# Exercise 1\n",
    "# Qn 4 \n",
    "# Create a vector with values from 0 to 20\n",
    "# Change the Sign of numbers from 9 to 15\n",
    "\n",
    "x=np.arange(0,21)\n",
    "a=np.array(x)\n",
    "a[9:16] *= -1\n",
    "print(a)"
   ]
  },
  {
   "cell_type": "code",
   "execution_count": 74,
   "metadata": {},
   "outputs": [
    {
     "name": "stdout",
     "output_type": "stream",
     "text": [
      "5x5 zero Matrix \n",
      "\n",
      "[[0 0 0 0 0]\n",
      " [0 0 0 0 0]\n",
      " [0 0 0 0 0]\n",
      " [0 0 0 0 0]\n",
      " [0 0 0 0 0]] \n",
      " \n",
      "\n",
      "After Changing Diagonal Elements \n",
      "\n",
      "[[1 0 0 0 0]\n",
      " [0 2 0 0 0]\n",
      " [0 0 3 0 0]\n",
      " [0 0 0 4 0]\n",
      " [0 0 0 0 5]]\n"
     ]
    }
   ],
   "source": [
    "# Exercise 1\n",
    "# Qn 5\n",
    "# Create a 5x5 zero Matrix\n",
    "# Elements of main diagonal = 1,2,3,4,5\n",
    "\n",
    "print(\"5x5 zero Matrix\",\"\\n\")\n",
    "a=np.zeros([5,5], dtype = int)\n",
    "print(a,\"\\n\",\"\\n\")\n",
    "print(\"After Changing Diagonal Elements\",\"\\n\")\n",
    "np.fill_diagonal(a,[1,2,3,4,5])\n",
    "print(a)"
   ]
  },
  {
   "cell_type": "code",
   "execution_count": 91,
   "metadata": {},
   "outputs": [
    {
     "name": "stdout",
     "output_type": "stream",
     "text": [
      "Given Matrix:  \n",
      " [[1 2 3 4]\n",
      " [2 3 4 5]] \n",
      "\n",
      "Total Sum:  24\n",
      "Sum of Columns:  [3 5 7 9]\n",
      "Sum of Rows:  [10 14]\n"
     ]
    }
   ],
   "source": [
    "# Exercise 1\n",
    "# Qn 6\n",
    "# Compute sum of all elements\n",
    "# sum of each column and each row in a given array\n",
    "\n",
    "x=np.array([[1,2,3,4],[2,3,4,5]])\n",
    "print(\"Given Matrix: \",\"\\n\",x,\"\\n\")\n",
    "print(\"Total Sum: \",np.sum(x))\n",
    "print(\"Sum of Columns: \",np.sum(x,axis=0))\n",
    "print(\"Sum of Rows: \",np.sum(x,axis=1))"
   ]
  },
  {
   "cell_type": "code",
   "execution_count": 135,
   "metadata": {},
   "outputs": [
    {
     "name": "stdout",
     "output_type": "stream",
     "text": [
      "Original Array:  [1 2 3 4 5] \n",
      "\n",
      "Array after loading:  [1. 2. 3. 4. 5.]\n"
     ]
    }
   ],
   "source": [
    "# Exercise 1\n",
    "# Qn 7\n",
    "# Save A given array to a text file & load it\n",
    "\n",
    "a = np.array([1,2,3,4,5],dtype = int) \n",
    "print(\"Original Array: \",a,\"\\n\")\n",
    "np.savetxt('/home/exam1/Desktop/HIRAN_S1MCA/test.txt',a)\n",
    "b = np.loadtxt('/home/exam1/Desktop/HIRAN_S1MCA/test.txt') \n",
    "print(\"Array after loading: \",b)"
   ]
  },
  {
   "cell_type": "code",
   "execution_count": 108,
   "metadata": {},
   "outputs": [
    {
     "name": "stdout",
     "output_type": "stream",
     "text": [
      "None of the elements of the 2 Arrays are equal \n"
     ]
    }
   ],
   "source": [
    "# Exercise 1\n",
    "# Qn 8\n",
    "# check whether 2 arrays are equal element wise or not\n",
    "\n",
    "a = np.array([1,2,3,4])\n",
    "b = np.array([5,6,7,8])\n",
    "\n",
    "eql = np.equal(a,b)\n",
    "if eql.all():\n",
    "    print(\"All Element of the 2 Arrays are Equal\")\n",
    "elif eql.any():\n",
    "    print(\"Only some elements of the 2 Arrays are equal\")\n",
    "else:\n",
    "    print(\"None of the elements of the 2 Arrays are equal \")"
   ]
  },
  {
   "cell_type": "code",
   "execution_count": 133,
   "metadata": {},
   "outputs": [
    {
     "name": "stdout",
     "output_type": "stream",
     "text": [
      "Original Random array:  \n",
      " [[3 6 3 7]\n",
      " [0 9 1 9]\n",
      " [5 7 2 4]\n",
      " [9 2 2 6]] \n",
      "\n",
      "Random array swapped:  \n",
      " [[9 2 2 6]\n",
      " [0 9 1 9]\n",
      " [5 7 2 4]\n",
      " [3 6 3 7]] \n",
      "\n"
     ]
    }
   ],
   "source": [
    "# Exercise 1\n",
    "# Qn 9\n",
    "# Create 4x4 array with random values\n",
    "# Create new array from the given array swapping 1st and last rows\n",
    "\n",
    "a = np.random.randint(10, size=(4, 4))\n",
    "print(\"Original Random array: \",\"\\n\",a,'\\n')\n",
    "a[[0,3]] = a[[3,0]]\n",
    "print(\"Random array swapped: \",\"\\n\",a,'\\n')"
   ]
  },
  {
   "cell_type": "code",
   "execution_count": 131,
   "metadata": {},
   "outputs": [
    {
     "name": "stdout",
     "output_type": "stream",
     "text": [
      " Array 1:  [1 2 3 4] \n",
      " Array 2:  [5 4 3 2]\n",
      " Multiplying the given arrays element wise:  [5 8 9 8]\n"
     ]
    }
   ],
   "source": [
    "# Exercise 1\n",
    "# Qn 10\n",
    "# Multiply 2 arrays of the same size element by element\n",
    "\n",
    "a = np.array([1,2,3,4])\n",
    "b = np.array([5,4,3,2])\n",
    "print(\" Array 1: \",a,\"\\n\",\"Array 2: \",b)\n",
    "prod=np.multiply(a,b)\n",
    "print(\" Multiplying the given arrays element wise: \",prod)"
   ]
  },
  {
   "cell_type": "code",
   "execution_count": null,
   "metadata": {},
   "outputs": [],
   "source": []
  }
 ],
 "metadata": {
  "kernelspec": {
   "display_name": "Python 3 (ipykernel)",
   "language": "python",
   "name": "python3"
  },
  "language_info": {
   "codemirror_mode": {
    "name": "ipython",
    "version": 3
   },
   "file_extension": ".py",
   "mimetype": "text/x-python",
   "name": "python",
   "nbconvert_exporter": "python",
   "pygments_lexer": "ipython3",
   "version": "3.9.12"
  }
 },
 "nbformat": 4,
 "nbformat_minor": 2
}
